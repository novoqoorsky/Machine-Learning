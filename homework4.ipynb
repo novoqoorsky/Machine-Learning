{
 "cells": [
  {
   "cell_type": "code",
   "execution_count": 1,
   "metadata": {},
   "outputs": [],
   "source": [
    "import numpy as np\n",
    "from matplotlib import pyplot"
   ]
  },
  {
   "cell_type": "code",
   "execution_count": 2,
   "metadata": {},
   "outputs": [],
   "source": [
    "from scipy.spatial.distance import cdist\n",
    "\n",
    "def mahalanobis_distance(x, y):\n",
    "    #X = np.vstack([x,y])\n",
    "    #V = np.cov(X.T)\n",
    "    #return np.sqrt(np.sum(np.dot(x - y, np.linalg.inv(V)) * (x - y), axis = 1))\n",
    "    return cdist(x, y, metric = \"mahalanobis\")"
   ]
  },
  {
   "cell_type": "code",
   "execution_count": 3,
   "metadata": {},
   "outputs": [],
   "source": [
    "fuzzifier = 1.01\n",
    "\n",
    "def calculate_eta(assignation, distance):\n",
    "    u = assignation ** fuzzifier\n",
    "    d_squared = distance ** 2\n",
    "    return np.sum(np.dot(u, d_squared.T)) / np.sum(u)"
   ]
  },
  {
   "cell_type": "code",
   "execution_count": 4,
   "metadata": {},
   "outputs": [],
   "source": [
    "def calculate_u(x, v, eta):\n",
    "    d = mahalanobis_distance(x.T, v).T\n",
    "    u = 1.0 / (1.0 + (d / eta) ** (2.0 / fuzzifier - 1.0))\n",
    "    return u, d"
   ]
  },
  {
   "cell_type": "code",
   "execution_count": 5,
   "metadata": {},
   "outputs": [],
   "source": [
    "def cluster(x, groups, centers, precision, max_iterations):\n",
    "    features, points = x.shape\n",
    "    eta = 1.0\n",
    "    v = np.zeros((max_iterations, groups, features))\n",
    "    v[0] = np.array(centers)\n",
    "    u = np.random.random((max_iterations, groups, points))\n",
    "    \n",
    "    i = 0\n",
    "    while i < max_iterations - 1:\n",
    "        u[i], distance = calculate_u(x, v[i], eta)\n",
    "        v[i + 1] = calculate_new_centers(x, u[i])\n",
    "        eta = calculate_eta(u[i], distance)\n",
    "        if np.linalg.norm(v[i + 1] - v[i]) < precision:\n",
    "            break\n",
    "        i += 1\n",
    "    plot(x, v[i], u[i - 1], groups)\n",
    "\n",
    "\n",
    "def calculate_new_centers(x, u):\n",
    "    u_temp = u ** fuzzifier\n",
    "    return u_temp.dot(x.T) / np.atleast_2d(u_temp.sum(axis=1)).T\n",
    "    \n",
    "    \n",
    "def plot(data, centers, assignation, groups):\n",
    "    fig, ax = pyplot.subplots()\n",
    "    group_num = np.argmax(assignation, axis = 0)\n",
    "    for group in range(groups):\n",
    "        ax.scatter(data[0][group_num == group], data[1][group_num == group])\n",
    "    for center in centers:\n",
    "        ax.scatter(center[0], center[1], c = 'black')      \n",
    "    pyplot.show()"
   ]
  },
  {
   "cell_type": "code",
   "execution_count": 6,
   "metadata": {},
   "outputs": [
    {
     "data": {
      "image/png": "[encoded data removed]",
      "text/plain": [
       "<matplotlib.figure.Figure at 0x7f0f6955b9b0>"
      ]
     },
     "metadata": {},
     "output_type": "display_data"
    }
   ],
   "source": [
    "# Performance test on the Aircraft dataset\n",
    "\n",
    "groups = 3\n",
    "data = (np.array([(4.0,1940),(9,2960),(9,4630),(78,1528),(90,2040),(50,3700),(467,14815),(509,15200),(290,15700),(215,6045)])).T\n",
    "initial_centers = (data.T)[np.random.choice((data.T).shape[0], groups), :]\n",
    "cluster(data, groups, initial_centers, 1e-6, 10)"
   ]
  },
  {
   "cell_type": "code",
   "execution_count": 7,
   "metadata": {},
   "outputs": [
    {
     "data": {
      "image/png": "[encoded data removed]",
      "text/plain": [
       "<matplotlib.figure.Figure at 0x7f0f692925c0>"
      ]
     },
     "metadata": {},
     "output_type": "display_data"
    }
   ],
   "source": [
    "# Performance test on the famous iris dataset\n",
    "\n",
    "from sklearn.datasets import load_iris\n",
    "\n",
    "dataset = load_iris()\n",
    "groups = 3\n",
    "data = (np.array(dataset.data)).T\n",
    "initial_centers = (data.T)[np.random.choice((data.T).shape[0], groups, replace=False), :]\n",
    "cluster(data, groups, initial_centers, 1e-6, 10)"
   ]
  }
 ],
 "metadata": {
  "kernelspec": {
   "display_name": "Python 3",
   "language": "python",
   "name": "python3"
  },
  "language_info": {
   "codemirror_mode": {
    "name": "ipython",
    "version": 3
   },
   "file_extension": ".py",
   "mimetype": "text/x-python",
   "name": "python",
   "nbconvert_exporter": "python",
   "pygments_lexer": "ipython3",
   "version": "3.6.4"
  }
 },
 "nbformat": 4,
 "nbformat_minor": 2
}
