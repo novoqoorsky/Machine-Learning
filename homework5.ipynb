{
 "cells": [
  {
   "cell_type": "code",
   "execution_count": 1,
   "metadata": {},
   "outputs": [],
   "source": [
    "import numpy as np\n",
    "from sklearn.metrics import confusion_matrix\n",
    "\n",
    "def czekanowski_dice_index(data_set, assignation, labels):\n",
    "    y_true = np.vstack(data_set).T\n",
    "    y_pred = np.vstack(assignation).T\n",
    "    tn = 0\n",
    "    fp = 0\n",
    "    fn = 0\n",
    "    tp = 0\n",
    "    for label in range(len(labels)):\n",
    "        label_tn, label_fp, label_fn, label_tp = confusion_matrix(y_true[:, label], y_pred[:, label]).ravel()\n",
    "        tn = tn + label_tn\n",
    "        fp = fp + label_fp\n",
    "        fn = fn + label_fn\n",
    "        tp = tp + label_tp\n",
    "    precision = tp / (tp + fp)\n",
    "    recall = tp / (tp + fn)\n",
    "    return (2 * precision * recall) / (recall + recall)"
   ]
  },
  {
   "cell_type": "code",
   "execution_count": 2,
   "metadata": {},
   "outputs": [
    {
     "name": "stdout",
     "output_type": "stream",
     "text": [
      "0.6153846153846154\n"
     ]
    }
   ],
   "source": [
    "dataset = np.random.randint(2, size = (2, 10))\n",
    "assignation = np.random.randint(2, size = (2, 10))\n",
    "labels = [2, 3]\n",
    "\n",
    "print(czekanowski_dice_index(dataset, assignation, labels))"
   ]
  }
 ],
 "metadata": {
  "kernelspec": {
   "display_name": "Python 3",
   "language": "python",
   "name": "python3"
  },
  "language_info": {
   "codemirror_mode": {
    "name": "ipython",
    "version": 3
   },
   "file_extension": ".py",
   "mimetype": "text/x-python",
   "name": "python",
   "nbconvert_exporter": "python",
   "pygments_lexer": "ipython3",
   "version": "3.6.4"
  }
 },
 "nbformat": 4,
 "nbformat_minor": 2
}
